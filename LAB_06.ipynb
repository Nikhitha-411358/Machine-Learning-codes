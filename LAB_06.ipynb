{
  "nbformat": 4,
  "nbformat_minor": 0,
  "metadata": {
    "colab": {
      "provenance": []
    },
    "kernelspec": {
      "name": "python3",
      "display_name": "Python 3"
    },
    "language_info": {
      "name": "python"
    }
  },
  "cells": [
    {
      "cell_type": "markdown",
      "source": [
        "1"
      ],
      "metadata": {
        "id": "4nwJiOPlltHn"
      }
    },
    {
      "cell_type": "code",
      "source": [
        "import pandas as pd\n",
        "import numpy as np\n",
        "from scipy.stats import entropy\n",
        "\n",
        "# Load the dataset\n",
        "file_path = \"/content/diabetes.csv\"\n",
        "df = pd.read_csv(file_path)\n",
        "\n",
        "# Function for equal-width binning\n",
        "def equal_width_binning(data, bins=4):\n",
        "    bin_labels = range(1, bins + 1)\n",
        "    return pd.cut(data, bins=bins, labels=bin_labels, include_lowest=True)\n",
        "\n",
        "# Function to calculate entropy\n",
        "def calculate_entropy(data):\n",
        "    value_counts = data.value_counts(normalize=True)\n",
        "    return entropy(value_counts, base=2)\n",
        "\n",
        "# Applying equal-width binning to the target variable\n",
        "y_binned = equal_width_binning(df['Glucose'])\n",
        "\n",
        "# Calculating entropy of the binned target variable\n",
        "dataset_entropy = calculate_entropy(y_binned)\n",
        "print(f\"Entropy of the dataset: {dataset_entropy}\")\n"
      ],
      "metadata": {
        "colab": {
          "base_uri": "https://localhost:8080/"
        },
        "id": "P-9MNGW4emp6",
        "outputId": "c94e659d-7cf7-4896-af68-f8bf7b5f6a00"
      },
      "execution_count": 3,
      "outputs": [
        {
          "output_type": "stream",
          "name": "stdout",
          "text": [
            "Entropy of the dataset: 1.4755768854891829\n"
          ]
        }
      ]
    },
    {
      "cell_type": "markdown",
      "source": [
        "2"
      ],
      "metadata": {
        "id": "NhD5cKIOlvnL"
      }
    },
    {
      "cell_type": "code",
      "source": [
        "import pandas as pd\n",
        "import numpy as np\n",
        "from scipy.stats import entropy\n",
        "\n",
        "\n",
        "\n",
        "# Function for equal-width binning\n",
        "def equal_width_binning(data, bins=4):\n",
        "    bin_labels = range(1, bins + 1)\n",
        "    return pd.cut(data, bins=bins, labels=bin_labels, include_lowest=True)\n",
        "\n",
        "# Function to calculate entropy\n",
        "def calculate_entropy(data):\n",
        "    value_counts = data.value_counts(normalize=True)\n",
        "    return entropy(value_counts, base=2)\n",
        "\n",
        "# Function to calculate Gini index\n",
        "def calculate_gini(data):\n",
        "    value_counts = data.value_counts(normalize=True)\n",
        "    return 1 - np.sum(value_counts ** 2)\n",
        "\n",
        "# Applying equal-width binning to the target variable\n",
        "y_binned = equal_width_binning(df['Glucose'])\n",
        "\n",
        "# Calculating entropy of the binned target variable\n",
        "dataset_entropy = calculate_entropy(y_binned)\n",
        "print(f\"Entropy of the dataset: {dataset_entropy}\")\n",
        "\n",
        "# Calculating Gini index of the binned target variable\n",
        "dataset_gini = calculate_gini(y_binned)\n",
        "print(f\"Gini Index of the dataset: {dataset_gini}\")\n"
      ],
      "metadata": {
        "colab": {
          "base_uri": "https://localhost:8080/"
        },
        "id": "f2u2EQDFiaHv",
        "outputId": "631c7beb-d5de-4757-8f56-09c7c5ad4aaf"
      },
      "execution_count": 4,
      "outputs": [
        {
          "output_type": "stream",
          "name": "stdout",
          "text": [
            "Entropy of the dataset: 1.4755768854891829\n",
            "Gini Index of the dataset: 0.5928446451822917\n"
          ]
        }
      ]
    },
    {
      "cell_type": "markdown",
      "source": [
        "3"
      ],
      "metadata": {
        "id": "siR-mMSvlxM7"
      }
    },
    {
      "cell_type": "code",
      "source": [
        "import pandas as pd\n",
        "import numpy as np\n",
        "from scipy.stats import entropy\n",
        "\n",
        "\n",
        "# Function to calculate entropy\n",
        "def calculate_entropy(data):\n",
        "    value_counts = data.value_counts(normalize=True)\n",
        "    return entropy(value_counts, base=2)\n",
        "\n",
        "# Function to calculate information gain\n",
        "def information_gain(df, target, feature):\n",
        "    total_entropy = calculate_entropy(df[target])\n",
        "    feature_values = df[feature].unique()\n",
        "    weighted_entropy = 0\n",
        "\n",
        "    for value in feature_values:\n",
        "        subset = df[df[feature] == value][target]\n",
        "        weighted_entropy += (len(subset) / len(df)) * calculate_entropy(subset)\n",
        "\n",
        "    return total_entropy - weighted_entropy\n",
        "\n",
        "# Function to find the best root node based on Information Gain\n",
        "def find_root_node(df, target):\n",
        "    features = df.columns.drop(target)\n",
        "    info_gains = {feature: information_gain(df, target, feature) for feature in features}\n",
        "    return max(info_gains, key=info_gains.get)\n",
        "\n",
        "# Identifying the root node\n",
        "root_node = find_root_node(df, df.columns[-1])\n",
        "print(f\"Best root node: {root_node}\")\n"
      ],
      "metadata": {
        "colab": {
          "base_uri": "https://localhost:8080/"
        },
        "id": "R_hZ9diMi3KZ",
        "outputId": "7c9d8bf1-0c94-4fd3-9cd4-f1c819e50337"
      },
      "execution_count": 6,
      "outputs": [
        {
          "output_type": "stream",
          "name": "stdout",
          "text": [
            "Best root node: DiabetesPedigreeFunction\n"
          ]
        }
      ]
    },
    {
      "cell_type": "markdown",
      "source": [
        "4"
      ],
      "metadata": {
        "id": "XLxrSvgdlyno"
      }
    },
    {
      "cell_type": "code",
      "source": [
        "import pandas as pd\n",
        "import numpy as np\n",
        "from scipy.stats import entropy\n",
        "\n",
        "\n",
        "\n",
        "# Function to calculate entropy\n",
        "def calculate_entropy(data):\n",
        "    value_counts = data.value_counts(normalize=True)\n",
        "    return entropy(value_counts, base=2)\n",
        "\n",
        "# Function for binning continuous features with function overloading using default parameters\n",
        "def bin_feature(data, bins=4, binning_type='equal_width'):\n",
        "    if bins is None:\n",
        "        bins = 4  # Default number of bins\n",
        "    if binning_type is None:\n",
        "        binning_type = 'equal_width'  # Default binning type\n",
        "\n",
        "    if binning_type == 'equal_width':\n",
        "        return pd.cut(data, bins=bins, labels=False)\n",
        "    elif binning_type == 'equal_frequency':\n",
        "        return pd.qcut(data, q=bins, labels=False, duplicates='drop')\n",
        "    else:\n",
        "        raise ValueError(\"Invalid binning type. Choose 'equal_width' or 'equal_frequency'.\")\n",
        "\n",
        "# Function to calculate information gain\n",
        "def information_gain(df, target, feature):\n",
        "    total_entropy = calculate_entropy(df[target])\n",
        "    feature_values = df[feature].unique()\n",
        "    weighted_entropy = 0\n",
        "\n",
        "    for value in feature_values:\n",
        "        subset = df[df[feature] == value][target]\n",
        "        weighted_entropy += (len(subset) / len(df)) * calculate_entropy(subset)\n",
        "\n",
        "    return total_entropy - weighted_entropy\n",
        "\n",
        "# Function to find the best root node based on Information Gain\n",
        "def find_root_node(df, target):\n",
        "    features = df.columns.drop(target)\n",
        "    info_gains = {feature: information_gain(df, target, feature) for feature in features}\n",
        "    return max(info_gains, key=info_gains.get)\n",
        "\n",
        "# Apply binning if needed (for continuous features)\n",
        "for col in df.columns[:-1]:  # Exclude target column\n",
        "    if df[col].dtype != 'object':  # If numeric, apply binning\n",
        "        df[col] = bin_feature(df[col])  # Uses default parameters if none are passed\n",
        "\n",
        "# Identifying the root node\n",
        "root_node = find_root_node(df, df.columns[-1])\n",
        "print(f\"Best root node: {root_node}\")\n"
      ],
      "metadata": {
        "colab": {
          "base_uri": "https://localhost:8080/"
        },
        "id": "FgR1M0gIjMGX",
        "outputId": "8177a672-5b96-4b60-fdbc-37f64099b732"
      },
      "execution_count": 8,
      "outputs": [
        {
          "output_type": "stream",
          "name": "stdout",
          "text": [
            "Best root node: Glucose\n"
          ]
        }
      ]
    },
    {
      "cell_type": "markdown",
      "source": [
        "5"
      ],
      "metadata": {
        "id": "8uThm18Ul2ul"
      }
    },
    {
      "cell_type": "code",
      "source": [
        "import pandas as pd\n",
        "import numpy as np\n",
        "from scipy.stats import entropy\n",
        "\n",
        "\n",
        "\n",
        "# Function to calculate entropy\n",
        "def calculate_entropy(data):\n",
        "    value_counts = data.value_counts(normalize=True)\n",
        "    return entropy(value_counts, base=2)\n",
        "\n",
        "# Function for binning continuous features with function overloading\n",
        "def bin_feature(data, bins=4, binning_type='equal_width'):\n",
        "    if binning_type == 'equal_width':\n",
        "        return pd.cut(data, bins=bins, labels=False)\n",
        "    elif binning_type == 'equal_frequency':\n",
        "        return pd.qcut(data, q=bins, labels=False, duplicates='drop')\n",
        "    else:\n",
        "        raise ValueError(\"Invalid binning type. Choose 'equal_width' or 'equal_frequency'.\")\n",
        "\n",
        "# Function to calculate information gain\n",
        "def information_gain(df, target, feature):\n",
        "    total_entropy = calculate_entropy(df[target])\n",
        "    feature_values = df[feature].unique()\n",
        "    weighted_entropy = 0\n",
        "\n",
        "    for value in feature_values:\n",
        "        subset = df[df[feature] == value][target]\n",
        "        weighted_entropy += (len(subset) / len(df)) * calculate_entropy(subset)\n",
        "\n",
        "    return total_entropy - weighted_entropy\n",
        "\n",
        "# Function to find the best root node based on Information Gain\n",
        "def find_root_node(df, target):\n",
        "    features = df.columns.drop(target)\n",
        "    info_gains = {feature: information_gain(df, target, feature) for feature in features}\n",
        "    return max(info_gains, key=info_gains.get)\n",
        "\n",
        "# Apply binning if needed\n",
        "for col in df.columns[:-1]:  # Exclude target column\n",
        "    if df[col].dtype != 'object':  # If numeric, apply binning\n",
        "        df[col] = bin_feature(df[col])\n",
        "\n",
        "# Identifying the root node\n",
        "root_node = find_root_node(df, df.columns[-1])\n",
        "print(f\"Best root node: {root_node}\")\n"
      ],
      "metadata": {
        "colab": {
          "base_uri": "https://localhost:8080/"
        },
        "id": "BsXECWMMkIDQ",
        "outputId": "6022a0a2-e46a-48e4-ee78-d0e05f28a430"
      },
      "execution_count": 9,
      "outputs": [
        {
          "output_type": "stream",
          "name": "stdout",
          "text": [
            "Best root node: Glucose\n"
          ]
        }
      ]
    },
    {
      "cell_type": "markdown",
      "source": [
        "6"
      ],
      "metadata": {
        "id": "cAX1QznYl5QE"
      }
    },
    {
      "cell_type": "code",
      "source": [
        "import pandas as pd\n",
        "import numpy as np\n",
        "from scipy.stats import entropy\n",
        "from sklearn.tree import DecisionTreeClassifier, export_graphviz\n",
        "import graphviz\n",
        "\n",
        "\n",
        "\n",
        "# Function to calculate entropy\n",
        "def calculate_entropy(data):\n",
        "    value_counts = data.value_counts(normalize=True)\n",
        "    return entropy(value_counts, base=2)\n",
        "\n",
        "# Function for binning continuous features with function overloading\n",
        "def bin_feature(data, bins=4, binning_type='equal_width'):\n",
        "    if binning_type == 'equal_width':\n",
        "        return pd.cut(data, bins=bins, labels=False)\n",
        "    elif binning_type == 'equal_frequency':\n",
        "        return pd.qcut(data, q=bins, labels=False, duplicates='drop')\n",
        "    else:\n",
        "        raise ValueError(\"Invalid binning type. Choose 'equal_width' or 'equal_frequency'.\")\n",
        "\n",
        "# Function to calculate information gain\n",
        "def information_gain(df, target, feature):\n",
        "    total_entropy = calculate_entropy(df[target])\n",
        "    feature_values = df[feature].unique()\n",
        "    weighted_entropy = 0\n",
        "\n",
        "    for value in feature_values:\n",
        "        subset = df[df[feature] == value][target]\n",
        "        weighted_entropy += (len(subset) / len(df)) * calculate_entropy(subset)\n",
        "\n",
        "    return total_entropy - weighted_entropy\n",
        "\n",
        "# Function to find the best root node based on Information Gain\n",
        "def find_root_node(df, target):\n",
        "    features = df.columns.drop(target)\n",
        "    info_gains = {feature: information_gain(df, target, feature) for feature in features}\n",
        "    return max(info_gains, key=info_gains.get)\n",
        "\n",
        "# Apply binning if needed\n",
        "for col in df.columns[:-1]:  # Exclude target column\n",
        "    if df[col].dtype != 'object':  # If numeric, apply binning\n",
        "        df[col] = bin_feature(df[col])\n",
        "\n",
        "# Identifying the root node\n",
        "root_node = find_root_node(df, df.columns[-1])\n",
        "print(f\"Best root node: {root_node}\")\n",
        "\n",
        "# Train Decision Tree Classifier\n",
        "X = df.drop(columns=[df.columns[-1]])\n",
        "y = df[df.columns[-1]]\n",
        "clf = DecisionTreeClassifier(criterion='entropy', random_state=42)\n",
        "clf.fit(X, y)\n",
        "\n",
        "# Visualize the Decision Tree\n",
        "dot_data = export_graphviz(clf, feature_names=X.columns, class_names=[str(c) for c in y.unique()], filled=True, rounded=True)\n",
        "graph = graphviz.Source(dot_data)\n",
        "graph.render(\"decision_tree\")\n",
        "print(\"Decision tree visualization saved as 'decision_tree.pdf'\")\n"
      ],
      "metadata": {
        "colab": {
          "base_uri": "https://localhost:8080/"
        },
        "id": "rUFIgiL6kl0S",
        "outputId": "9885ed58-abb8-43e9-a31e-41b4f8246b62"
      },
      "execution_count": 10,
      "outputs": [
        {
          "output_type": "stream",
          "name": "stdout",
          "text": [
            "Best root node: Glucose\n",
            "Decision tree visualization saved as 'decision_tree.pdf'\n"
          ]
        }
      ]
    },
    {
      "cell_type": "markdown",
      "source": [
        "7"
      ],
      "metadata": {
        "id": "Nqvl_As8l6oG"
      }
    },
    {
      "cell_type": "code",
      "source": [
        "import pandas as pd\n",
        "import numpy as np\n",
        "import matplotlib.pyplot as plt\n",
        "import seaborn as sns\n",
        "from sklearn.tree import DecisionTreeClassifier\n",
        "from sklearn.model_selection import train_test_split\n",
        "from sklearn.preprocessing import LabelEncoder\n",
        "from matplotlib.colors import ListedColormap\n",
        "\n",
        "\n",
        "\n",
        "# Select two features for classification\n",
        "feature_1 = \"Glucose\"\n",
        "feature_2 = \"BMI\"\n",
        "target = \"Outcome\"\n",
        "\n",
        "# Prepare the data\n",
        "X = df[[feature_1, feature_2]].values\n",
        "y = df[target].values\n",
        "\n",
        "# Encode target variable if necessary\n",
        "label_encoder = LabelEncoder()\n",
        "y = label_encoder.fit_transform(y)\n",
        "\n",
        "# Train a Decision Tree Classifier\n",
        "clf = DecisionTreeClassifier(criterion='entropy', random_state=42)\n",
        "clf.fit(X, y)\n",
        "\n",
        "# Create a mesh grid for plotting\n",
        "x_min, x_max = X[:, 0].min() - 1, X[:, 0].max() + 1\n",
        "y_min, y_max = X[:, 1].min() - 1, X[:, 1].max() + 1\n",
        "xx, yy = np.meshgrid(np.linspace(x_min, x_max, 100), np.linspace(y_min, y_max, 100))\n",
        "\n",
        "# Predict on mesh grid\n",
        "Z = clf.predict(np.c_[xx.ravel(), yy.ravel()])\n",
        "Z = Z.reshape(xx.shape)\n",
        "\n",
        "# Plot decision boundary\n",
        "plt.figure(figsize=(8, 6))\n",
        "cmap_background = ListedColormap(['#FFAAAA', '#AAAAFF'])\n",
        "cmap_points = ListedColormap(['#FF0000', '#0000FF'])\n",
        "plt.contourf(xx, yy, Z, alpha=0.3, cmap=cmap_background)\n",
        "plt.scatter(X[:, 0], X[:, 1], c=y, cmap=cmap_points, edgecolor='k')\n",
        "plt.xlabel(feature_1)\n",
        "plt.ylabel(feature_2)\n",
        "plt.title(\"Decision Tree Decision Boundary\")\n",
        "plt.show()\n"
      ],
      "metadata": {
        "colab": {
          "base_uri": "https://localhost:8080/",
          "height": 564
        },
        "id": "qO68BnA0lksh",
        "outputId": "e4dbdb07-bf39-4c79-989d-fd34b91da8bf"
      },
      "execution_count": 12,
      "outputs": [
        {
          "output_type": "display_data",
          "data": {
            "text/plain": [
              "<Figure size 800x600 with 1 Axes>"
            ],
            "image/png": "[encoded data removed]"
          },
          "metadata": {}
        }
      ]
    }
  ]
}